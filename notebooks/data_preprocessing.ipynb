{
 "cells": [
  {
   "cell_type": "markdown",
   "metadata": {},
   "source": [
    "# 📊 Data Preprocessing"
   ]
  },
  {
   "cell_type": "code",
   "execution_count": 1,
   "metadata": {},
   "outputs": [],
   "source": [
    "# 📊 Import necessary libraries\n",
    "import pandas as pd  \n",
    "import numpy as np  \n",
    "import matplotlib.pyplot as plt  \n",
    "import seaborn as sns  \n",
    "import os  \n",
    "import sys"
   ]
  },
  {
   "cell_type": "code",
   "execution_count": 2,
   "metadata": {},
   "outputs": [],
   "source": [
    "# 🛠️ Add the 'scripts' directory to the Python path for module imports\n",
    "sys.path.append(os.path.abspath(os.path.join('..', 'scripts')))"
   ]
  },
  {
   "cell_type": "code",
   "execution_count": 3,
   "metadata": {},
   "outputs": [],
   "source": [
    "# 📚 Importing the DataPreprocessor class from the scripts directory\n",
    "from data_preprocessing import DataPreprocessor "
   ]
  },
  {
   "cell_type": "code",
   "execution_count": 4,
   "metadata": {},
   "outputs": [],
   "source": [
    "# 🛠️ Create an instance of DataPreprocessor\n",
    "processor = DataPreprocessor()"
   ]
  },
  {
   "cell_type": "code",
   "execution_count": 5,
   "metadata": {},
   "outputs": [],
   "source": [
    "# 📅 Define the start and end dates for data retrieval\n",
    "start_date = \"2015-01-01\"  # Start date = January-01-2015\n",
    "end_date = \"2025-01-31\"    # End date = January-31-2025\n",
    "\n",
    "# 📈 Define the symbols for which we want to fetch historical data\n",
    "symbols = [\"BND\", \"SPY\", \"TSLA\"]  # Bond, S&P 500, and Tesla stocks"
   ]
  },
  {
   "cell_type": "code",
   "execution_count": 10,
   "metadata": {},
   "outputs": [
    {
     "name": "stderr",
     "output_type": "stream",
     "text": [
      "📊 Fetching data for BND from 2015-01-01 to 2025-01-31...\n",
      "✅ Data for BND saved to '../data/BND.csv'.\n",
      "📊 Fetching data for SPY from 2015-01-01 to 2025-01-31...\n",
      "✅ Data for SPY saved to '../data/SPY.csv'.\n",
      "📊 Fetching data for TSLA from 2015-01-01 to 2025-01-31...\n",
      "✅ Data for TSLA saved to '../data/TSLA.csv'.\n"
     ]
    },
    {
     "name": "stdout",
     "output_type": "stream",
     "text": [
      "=====================================================\n",
      "📂 Data files saved at the following locations:\n",
      "=====================================================\n",
      "BND: ../data/BND.csv\n",
      "SPY: ../data/SPY.csv\n",
      "TSLA: ../data/TSLA.csv\n"
     ]
    }
   ],
   "source": [
    "# 🚀 Fetch the data using the get_data method\n",
    "data_paths = processor.get_data(start_date, end_date, symbols)\n",
    "\n",
    "# 📂 Output the paths of the saved data files\n",
    "print(\"=====================================================\")\n",
    "print(\"📂 Data files saved at the following locations:\")\n",
    "print(\"=====================================================\")\n",
    "for symbol, path in data_paths.items():\n",
    "    print(f\"{symbol}: {path}\")"
   ]
  }
 ],
 "metadata": {
  "kernelspec": {
   "display_name": ".venv",
   "language": "python",
   "name": "python3"
  },
  "language_info": {
   "codemirror_mode": {
    "name": "ipython",
    "version": 3
   },
   "file_extension": ".py",
   "mimetype": "text/x-python",
   "name": "python",
   "nbconvert_exporter": "python",
   "pygments_lexer": "ipython3",
   "version": "3.12.9"
  }
 },
 "nbformat": 4,
 "nbformat_minor": 2
}
